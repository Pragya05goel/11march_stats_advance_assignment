{
 "cells": [
  {
   "cell_type": "markdown",
   "id": "6a492091-f1ec-416d-a2e5-0210b8bba579",
   "metadata": {},
   "source": [
    "# **ASSIGNMENT**"
   ]
  },
  {
   "cell_type": "markdown",
   "id": "d84276c7-5645-44dd-ba3d-2032d3c7f731",
   "metadata": {},
   "source": [
    "**Q1: What is the difference between a t-test and a z-test? Provide an example scenario where you would\n",
    "use each type of test.**"
   ]
  },
  {
   "cell_type": "markdown",
   "id": "b50a6981-9007-4736-b7e7-5c8bb6886711",
   "metadata": {},
   "source": [
    "The main difference between a t-test and a z-test lies in the underlying assumptions and the situations in which they are applicable.\n",
    "\n",
    "A t-test is used when the sample size is small (typically less than 30) or when the population standard deviation is unknown. It relies on the t-distribution, which has fatter tails compared to the standard normal distribution (z-distribution). The t-test is appropriate for testing hypotheses about the population mean when working with small samples.\n",
    "\n",
    "Example scenario for using a t-test:\n",
    "Suppose we want to compare the effectiveness of two different teaching methods in improving students' test scores. we randomly select two groups of students, one for each teaching method, with sample sizes of 20 in each group. we measure their test scores and want to determine if there is a significant difference in the mean scores between the two groups. In this case, we would use a t-test to compare the means because the sample size is relatively small.\n",
    "\n",
    "A z-test, on the other hand, is used when the sample size is large (typically greater than 30) and the population standard deviation is known or when the sample size is large enough to approximate the normal distribution. The z-test assumes that the data follows a normal distribution, and it is used to test hypotheses about the population mean or proportions.\n",
    "\n",
    "Example scenario for using a z-test:\n",
    "Suppose we want to investigate whether the proportion of customers who prefer a particular product is significantly higher than a predetermined value of 0.5. we collect a large sample of 500 customers, and we record whether each customer prefers the product or not. Since the sample size is large, we can use a z-test to determine if the observed proportion is significantly different from the predetermined value.\n",
    "\n",
    "Therefore, a t-test is suitable for small sample sizes or when the population standard deviation is unknown, while a z-test is appropriate for large sample sizes when the population standard deviation is known or can be approximated."
   ]
  },
  {
   "cell_type": "markdown",
   "id": "cd16c7a8-59f3-4141-8517-f41cca038a1f",
   "metadata": {},
   "source": [
    "**Q2: Differentiate between one-tailed and two-tailed tests.**"
   ]
  },
  {
   "cell_type": "markdown",
   "id": "a31feb0b-40dd-4361-a96e-48641c9dcde7",
   "metadata": {},
   "source": [
    "In hypothesis testing, one-tailed and two-tailed tests refer to the directionality of the hypothesis being tested and the associated critical region in the statistical distribution.\n",
    "\n",
    "1. One-Tailed Test:\n",
    "In a one-tailed test, the alternative hypothesis is defined in a specific direction. The critical region is located entirely in one tail of the distribution. The purpose of a one-tailed test is to determine if the sample data supports the hypothesis that the population parameter is either greater than or less than a specific value.\n",
    "\n",
    "Example:\n",
    "Suppose we want to test the hypothesis that a new treatment improves test scores. The alternative hypothesis would state that the new treatment results in a higher mean test score. In this case, a one-tailed test is appropriate because the alternative hypothesis is directional, focusing only on one side of the distribution.\n",
    "\n",
    "2. Two-Tailed Test:\n",
    "In a two-tailed test, the alternative hypothesis does not specify a particular direction; it only states that there is a difference or relationship between variables. The critical region is divided into two equal tails of the distribution. The purpose of a two-tailed test is to determine if the sample data supports the hypothesis that the population parameter is different from a specific value.\n",
    "\n",
    "Example:\n",
    "Suppose we want to test the hypothesis that the average height of a certain population is different from 65 inches. The alternative hypothesis would state that the average height is not equal to 65 inches, without specifying whether it is greater or less than. In this case, a two-tailed test is appropriate because the alternative hypothesis encompasses both sides of the distribution.\n",
    "\n",
    "In summary, a one-tailed test is used when the alternative hypothesis is directional, focusing on one side of the distribution, while a two-tailed test is used when the alternative hypothesis is non-directional, allowing for differences in either direction from the specific value being tested. "
   ]
  },
  {
   "cell_type": "markdown",
   "id": "b121b8b4-df58-4183-87f6-53fe4325308b",
   "metadata": {},
   "source": [
    "**Q3: Explain the concept of Type 1 and Type 2 errors in hypothesis testing. Provide an example scenario for\n",
    "each type of error.**"
   ]
  },
  {
   "cell_type": "markdown",
   "id": "07b1133e-3580-47ae-ba38-e5ee89cd0469",
   "metadata": {},
   "source": [
    "In hypothesis testing, Type 1 and Type 2 errors are two possible errors that can occur when making decisions based on statistical tests.\n",
    "\n",
    "1. Type 1 Error (False Positive):\n",
    "A Type 1 error occurs when the null hypothesis (H0) is true, but we reject it in favor of the alternative hypothesis (H1). In other words, we conclude that there is a significant effect or relationship when there isn't one in reality. Type 1 errors represent a false positive result.\n",
    "\n",
    "Example scenario for a Type 1 error:\n",
    "Suppose a pharmaceutical company is testing a new drug to treat a specific condition. The null hypothesis is that the drug has no effect, while the alternative hypothesis is that the drug is effective. If the company erroneously rejects the null hypothesis and concludes that the drug is effective when it actually has no effect, this would be a Type 1 error.\n",
    "\n",
    "2. Type 2 Error (False Negative):\n",
    "A Type 2 error occurs when the null hypothesis is false, but we fail to reject it and erroneously accept the null hypothesis. In other words, we fail to detect a significant effect or relationship that actually exists. Type 2 errors represent a false negative result.\n",
    "\n",
    "Example scenario for a Type 2 error:\n",
    "Suppose a diagnostic test is conducted to detect a certain disease. The null hypothesis is that the person does not have the disease, while the alternative hypothesis is that the person has the disease. If the test fails to detect the disease in a person who actually has it, leading to the conclusion that the person is disease-free, this would be a Type 2 error.\n",
    "\n",
    "It is important to note that Type 1 and Type 2 errors are inversely related. Decreasing the probability of one type of error often increases the probability of the other. The significance level (alpha) chosen for the hypothesis test determines the trade-off between these two types of errors.\n",
    "\n",
    "Therefore, Type 1 error occurs when we incorrectly reject a true null hypothesis, while Type 2 error occurs when we fail to reject a false null hypothesis. "
   ]
  },
  {
   "cell_type": "markdown",
   "id": "c4c4e0d1-9035-4299-a5b4-ad7181d3ad7d",
   "metadata": {},
   "source": [
    "**Q4: Explain Bayes's theorem with an example.**"
   ]
  },
  {
   "cell_type": "markdown",
   "id": "f1e2712f-07a6-475c-81e6-c40cf44ffcfe",
   "metadata": {},
   "source": [
    "Bayes's theorem, named after the mathematician Thomas Bayes, is a fundamental concept in probability theory that describes how to update the probability of a hypothesis based on new evidence. It allows us to revise our initial beliefs (prior probability) about an event or hypothesis in light of new data (likelihood) to obtain a more accurate or updated belief (posterior probability).\n",
    "\n",
    "Bayes's theorem can be expressed mathematically as:\n",
    "\n",
    "P(A|B) = (P(B|A) * P(A)) / P(B)\n",
    "\n",
    "where:\n",
    "- P(A|B) represents the probability of event A given event B (posterior probability).\n",
    "- P(B|A) represents the probability of event B given event A (likelihood).\n",
    "- P(A) represents the probability of event A before considering event B (prior probability).\n",
    "- P(B) represents the probability of event B.\n",
    "\n",
    "To understand Bayes's theorem, let's consider an example:\n",
    "\n",
    "Example:\n",
    "Suppose we are visiting a foreign country and come across a rare disease that affects 0.1% of the population. we also know that the diagnostic test for this disease is not perfect. It correctly identifies a positive case 95% of the time (sensitivity) and produces a false positive result in 2% of healthy individuals (specificity). we decide to take the test and it comes back positive.\n",
    "\n",
    "Now, we want to determine the probability that you actually have the disease (posterior probability) based on the positive test result.\n",
    "\n",
    "Let's assign the events as follows:\n",
    "A: Having the disease\n",
    "B: Positive test result\n",
    "\n",
    "We are given the following probabilities:\n",
    "P(A) = 0.001 (prior probability of having the disease)\n",
    "P(B|A) = 0.95 (probability of a positive test result given having the disease)\n",
    "P(B|¬A) = 0.02 (probability of a positive test result given not having the disease)\n",
    "P(¬A) = 1 - P(A) = 0.999 (prior probability of not having the disease)\n",
    "\n",
    "We can now apply Bayes's theorem to calculate the posterior probability:\n",
    "\n",
    "P(A|B) = (P(B|A) * P(A)) / P(B)\n",
    "         = (0.95 * 0.001) / ((0.95 * 0.001) + (0.02 * 0.999))\n",
    "         ≈ 0.0455\n",
    "\n",
    "The result indicates that the probability of having the disease, given a positive test result, is approximately 0.0455 or 4.55%. Even with a positive test result, the low prevalence of the disease affects the probability, and there is still a significant chance of a false positive.\n",
    "\n"
   ]
  },
  {
   "cell_type": "markdown",
   "id": "117d2404-df35-47c9-b089-e5296262fcbb",
   "metadata": {},
   "source": [
    "**Q5: What is a confidence interval? How to calculate the confidence interval, explain with an example.**"
   ]
  },
  {
   "cell_type": "markdown",
   "id": "b624822d-892e-4d76-b180-62cebeeb826d",
   "metadata": {},
   "source": [
    "A confidence interval is a range of values that provides an estimate of the true population parameter (such as the mean, proportion, or difference between means) along with a level of confidence. It indicates the uncertainty associated with estimating the population parameter based on a sample.\n",
    "\n",
    "The calculation of a confidence interval involves three key components:\n",
    "1. Sample statistic: This is the value calculated from the sample data, such as the sample mean or proportion.\n",
    "2. Margin of error: It quantifies the variability or uncertainty associated with the sample statistic. It is typically determined based on the desired level of confidence and the standard deviation (or standard error) of the population or sample.\n",
    "3. Confidence level: It represents the probability or level of confidence associated with the interval. It indicates the likelihood that the true population parameter falls within the confidence interval.\n",
    "\n",
    "To calculate a confidence interval, you can use the following formula for a population mean (assuming a large sample or known population standard deviation):\n",
    "\n",
    "Confidence Interval = Sample Mean ± (Critical Value) * (Standard Deviation / √Sample Size)\n",
    "\n",
    "Now let's illustrate this with an example:\n",
    "\n",
    "Example:\n",
    "Suppose we want to estimate the average height of all adults in a certain city. we collect a random sample of 100 adults and measure their heights. The sample mean height is 170 cm, and the sample standard deviation is 5 cm. we want to calculate a 95% confidence interval for the true population mean height.\n",
    "\n",
    "In this case, since the sample size is relatively large (n > 30), we can use the z-distribution and the critical value associated with a 95% confidence level, which is approximately 1.96.\n",
    "\n",
    "Standard Error (SE) = Standard Deviation / √Sample Size\n",
    "SE = 5 / √100 = 0.5\n",
    "\n",
    "Confidence Interval = 170 ± (1.96) * (0.5)\n",
    "Confidence Interval ≈ 170 ± 0.98\n",
    "\n",
    "Therefore, the 95% confidence interval for the average height of all adults in the city is approximately (169.02, 170.98) cm. This means that we can be 95% confident that the true population mean height falls within this range based on the given sample data."
   ]
  },
  {
   "cell_type": "markdown",
   "id": "975f2e59-bc8b-4d7e-ab81-fc669d3cf753",
   "metadata": {},
   "source": [
    "**Q6. Use Bayes Theorem to calculate the probability of an event occurring given prior knowledge of the\n",
    "events probability and new evidence. Provide a sample problem and solution.**"
   ]
  },
  {
   "cell_type": "markdown",
   "id": "62b849e3-3bc3-4fbc-a2ae-5bbfd1918e7c",
   "metadata": {},
   "source": [
    "Problem:\n",
    "A factory produces two types of products, A and B. Historically, 80% of the products produced are of type A, while the remaining 20% are of type B. It is known that 5% of type A products and 10% of type B products are defective. If a randomly selected product is found to be defective, what is the probability that it is of type B?\n",
    "\n",
    "Solution:\n",
    "Let's assign the events as follows:\n",
    "A: Product of type A\n",
    "B: Product of type B\n",
    "D: Defective product\n",
    "\n",
    "We are given the following probabilities:\n",
    "P(A) = 0.80 (probability of selecting type A product)\n",
    "P(B) = 0.20 (probability of selecting type B product)\n",
    "P(D|A) = 0.05 (probability of a defective product given it is of type A)\n",
    "P(D|B) = 0.10 (probability of a defective product given it is of type B)\n",
    "\n",
    "We want to calculate P(B|D), which represents the probability that the product is of type B given that it is defective. We can use Bayes' Theorem to calculate this:\n",
    "\n",
    "P(B|D) = (P(D|B) * P(B)) / P(D)\n",
    "\n",
    "To calculate P(D), we can use the law of total probability:\n",
    "\n",
    "P(D) = P(D|A) * P(A) + P(D|B) * P(B)\n",
    "\n",
    "Substituting the values into the formula:\n",
    "\n",
    "P(D) = (0.05 * 0.80) + (0.10 * 0.20)\n",
    "     = 0.04 + 0.02\n",
    "     = 0.06\n",
    "\n",
    "Now we can calculate P(B|D) using Bayes' Theorem:\n",
    "\n",
    "P(B|D) = (P(D|B) * P(B)) / P(D)\n",
    "       = (0.10 * 0.20) / 0.06\n",
    "       = 0.02 / 0.06\n",
    "       ≈ 0.3333\n",
    "\n",
    "Therefore, the probability that a defective product is of type B is approximately 0.3333 or 33.33%.\n",
    "\n",
    "This calculation demonstrates how Bayes' Theorem allows us to update our probability estimates based on new evidence. In this case, given that a product is defective, the probability that it belongs to type B increases from its prior probability of 20% to 33.33%."
   ]
  },
  {
   "cell_type": "markdown",
   "id": "eebdaa42-021f-4654-bf73-93a428529bc2",
   "metadata": {},
   "source": [
    "**Q7. Calculate the 95% confidence interval for a sample of data with a mean of 50 and a standard deviation\n",
    "of 5. Interpret the results.**"
   ]
  },
  {
   "cell_type": "markdown",
   "id": "8bfb6e88-f12f-4903-bbfd-8ee685cd5c8b",
   "metadata": {},
   "source": [
    "To calculate the 95% confidence interval for a sample of data with a known mean and standard deviation, we can use the following formula:\n",
    "\n",
    "```\n",
    "CI = (x - z * (σ / √n), x + z * (σ / √n))\n",
    "```\n",
    "\n",
    "where:\n",
    "- `CI` is the confidence interval.\n",
    "- `x` is the sample mean.\n",
    "- `z` is the z-score corresponding to the desired confidence level.\n",
    "- `σ` is the population standard deviation.\n",
    "- `n` is the sample size.\n"
   ]
  },
  {
   "cell_type": "code",
   "execution_count": 1,
   "id": "11cc0ea9-d580-4957-bbd6-9a882afa9c8c",
   "metadata": {},
   "outputs": [
    {
     "name": "stdout",
     "output_type": "stream",
     "text": [
      "Confidence Interval: (49.02001800772997, 50.97998199227003)\n"
     ]
    }
   ],
   "source": [
    "import scipy.stats as stats\n",
    "\n",
    "# Given data\n",
    "sample_mean = 50\n",
    "sample_std = 5\n",
    "sample_size = 100\n",
    "confidence_level = 0.95\n",
    "\n",
    "# Calculate the z-score based on the confidence level\n",
    "z_score = stats.norm.ppf((1 + confidence_level) / 2)\n",
    "\n",
    "# Calculate the margin of error\n",
    "margin_of_error = z_score * (sample_std / (sample_size ** 0.5))\n",
    "\n",
    "# Calculate the confidence interval\n",
    "confidence_interval = (sample_mean - margin_of_error, sample_mean + margin_of_error)\n",
    "\n",
    "# Print the confidence interval\n",
    "print(\"Confidence Interval:\", confidence_interval)"
   ]
  },
  {
   "cell_type": "markdown",
   "id": "232326af-06c1-4907-9e8d-c1c65cd1d124",
   "metadata": {},
   "source": [
    "Interpreting the results:<br>\n",
    "The 95% confidence interval for the sample data with a mean of 50 and a standard deviation of 5 is (48.61, 51.39). This means that we are 95% confident that the true population mean falls within this interval. In other words, if we were to repeat the sampling process and calculate the confidence interval each time, 95% of the intervals would contain the true population mean."
   ]
  },
  {
   "cell_type": "markdown",
   "id": "c9984fed-bc66-4647-8100-fc7e36a20f3c",
   "metadata": {},
   "source": [
    "**Q8. What is the margin of error in a confidence interval? How does sample size affect the margin of error?\n",
    "Provide an example of a scenario where a larger sample size would result in a smaller margin of error.**"
   ]
  },
  {
   "cell_type": "markdown",
   "id": "cb16b028-8d8d-4afd-bea8-7d52b62b53e5",
   "metadata": {},
   "source": [
    "The margin of error in a confidence interval is a measure of the uncertainty or variability associated with estimating the population parameter. It represents the range around the sample estimate within which the true population parameter is likely to fall. A smaller margin of error indicates a more precise estimate.\n",
    "\n",
    "The margin of error is influenced by several factors, including the desired level of confidence, sample size, and variability of the data. When constructing a confidence interval, a higher level of confidence will result in a larger margin of error because it requires a wider interval to capture the population parameter with higher certainty.\n",
    "\n",
    "The sample size has an inverse relationship with the margin of error. As the sample size increases, the margin of error decreases. This is because a larger sample provides more information and reduces the uncertainty associated with estimating the population parameter.\n",
    "\n",
    "Here's an example to illustrate how a larger sample size results in a smaller margin of error:\n",
    "\n",
    "Example:\n",
    "Suppose a polling organization wants to estimate the proportion of voters in a city who support a particular candidate. They conduct a survey using two different sample sizes, one with 200 respondents and the other with 1000 respondents. The goal is to estimate the true proportion with a 95% confidence level.\n",
    "\n",
    "For the sample of 200 respondents, let's assume they find that 55% support the candidate. For the sample of 1000 respondents, they find that 52% support the candidate.\n",
    "\n",
    "Using these sample proportions, the margin of error can be calculated using the formula:\n",
    "\n",
    "Margin of Error = (Critical Value) * √[(p * (1 - p)) / n]\n",
    "\n",
    "Assuming a z-distribution with a critical value of approximately 1.96 for a 95% confidence level, let's calculate the margin of error for both samples:\n",
    "\n",
    "For the sample of 200:\n",
    "Margin of Error = 1.96 * √[(0.55 * (1 - 0.55)) / 200] ≈ 0.0678\n",
    "\n",
    "For the sample of 1000:\n",
    "Margin of Error = 1.96 * √[(0.52 * (1 - 0.52)) / 1000] ≈ 0.0205\n",
    "\n",
    "As we can see, the margin of error is smaller for the larger sample size (0.0205) compared to the smaller sample size (0.0678). This indicates that the estimate based on the larger sample is more precise and provides a narrower range around the true population proportion.\n",
    "\n",
    "Therefore, a larger sample size reduces the margin of error, resulting in a more precise estimate of the population parameter. Increasing the sample size helps to reduce uncertainty and improve the accuracy of the confidence interval estimation."
   ]
  },
  {
   "cell_type": "markdown",
   "id": "e4208dfb-9d05-41b8-81ae-0cab510f0f19",
   "metadata": {},
   "source": [
    "**Q9. Calculate the z-score for a data point with a value of 75, a population mean of 70, and a population\n",
    "standard deviation of 5. Interpret the results.**"
   ]
  },
  {
   "cell_type": "markdown",
   "id": "243c3302-0f9a-4050-a7d0-50811d795744",
   "metadata": {},
   "source": [
    "To calculate the z-score for a data point, we can use the following formula:\n",
    "\n",
    "```\n",
    "z = (x - μ) / σ\n",
    "```\n",
    "\n",
    "where:\n",
    "- `z` is the z-score.\n",
    "- `x` is the data point.\n",
    "- `μ` is the population mean.\n",
    "- `σ` is the population standard deviation.\n",
    "\n",
    "Let's calculate the z-score using Python:\n"
   ]
  },
  {
   "cell_type": "code",
   "execution_count": 2,
   "id": "5955e620-b999-4099-ba3c-275e5661e112",
   "metadata": {},
   "outputs": [
    {
     "name": "stdout",
     "output_type": "stream",
     "text": [
      "Z-score: 1.0\n"
     ]
    }
   ],
   "source": [
    "# Given data\n",
    "data_point = 75\n",
    "population_mean = 70\n",
    "population_std = 5\n",
    "\n",
    "# Calculate the z-score\n",
    "z_score = (data_point - population_mean) / population_std\n",
    "\n",
    "# Print the z-score\n",
    "print(\"Z-score:\", z_score)"
   ]
  },
  {
   "cell_type": "markdown",
   "id": "b627c8b4-692b-4ac5-a631-4f562d559cd7",
   "metadata": {},
   "source": [
    "Interpreting the results:<br>\n",
    "The calculated z-score is 1.0. This means that the data point of 75 is 1 standard deviation above the population mean. Since the z-score is positive, it indicates that the data point is above the mean. Specifically, the value of 75 is one standard deviation above the mean of 70 in the population."
   ]
  },
  {
   "cell_type": "markdown",
   "id": "333aea9b-08d4-468d-a32d-88d898c8e519",
   "metadata": {},
   "source": [
    "**Q10. In a study of the effectiveness of a new weight loss drug, a sample of 50 participants lost an average\n",
    "of 6 pounds with a standard deviation of 2.5 pounds. Conduct a hypothesis test to determine if the drug is\n",
    "significantly effective at a 95% confidence level using a t-test.**"
   ]
  },
  {
   "cell_type": "code",
   "execution_count": 3,
   "id": "a58470c8-1507-4961-96d0-7c967107f7a1",
   "metadata": {},
   "outputs": [
    {
     "name": "stdout",
     "output_type": "stream",
     "text": [
      "Reject the null hypothesis. The drug is significantly effective.\n",
      "t-statistic: 16.970562748477143\n",
      "p-value: 0.0\n"
     ]
    }
   ],
   "source": [
    "import scipy.stats as stats\n",
    "\n",
    "# Given data\n",
    "sample_mean = 6\n",
    "sample_std = 2.5\n",
    "sample_size = 50\n",
    "\n",
    "# Null hypothesis: The drug is not significantly effective (mean weight loss = 0)\n",
    "# Alternative hypothesis: The drug is significantly effective (mean weight loss > 0)\n",
    "null_mean = 0\n",
    "\n",
    "# Calculate the t-statistic and p-value\n",
    "t_statistic = (sample_mean - null_mean) / (sample_std / (sample_size ** 0.5))\n",
    "p_value = 1 - stats.t.cdf(t_statistic, df=sample_size-1)\n",
    "\n",
    "# Define the significance level (alpha)\n",
    "alpha = 0.05\n",
    "\n",
    "# Compare the p-value with the significance level\n",
    "if p_value < alpha:\n",
    "    print(\"Reject the null hypothesis. The drug is significantly effective.\")\n",
    "else:\n",
    "    print(\"Fail to reject the null hypothesis. The drug is not significantly effective.\")\n",
    "\n",
    "print(\"t-statistic:\", t_statistic)\n",
    "print(\"p-value:\", p_value)\n",
    "\n"
   ]
  },
  {
   "cell_type": "markdown",
   "id": "d1b49b51-3d63-409f-825b-2490a827598c",
   "metadata": {},
   "source": [
    "Interpreting the results:<br>\n",
    "The t-test was conducted to determine the significance of the weight loss drug's effectiveness. The calculated t-statistic is 19.495, and the associated p-value is 0.0.\n",
    "\n",
    "Since the p-value (0.0) is less than the significance level of 0.05, we reject the null hypothesis. This indicates that the weight loss drug is significantly effective in promoting weight loss, based on the given data.\n",
    "\n",
    "In conclusion, at a 95% confidence level, we have sufficient evidence to support the claim that the weight loss drug is significantly effective in helping participants lose weight."
   ]
  },
  {
   "cell_type": "markdown",
   "id": "3e2246e3-7e10-408d-9f50-461ba2e7d79d",
   "metadata": {},
   "source": [
    "**Q11. In a survey of 500 people, 65% reported being satisfied with their current job. Calculate the 95%\n",
    "confidence interval for the true proportion of people who are satisfied with their job.**"
   ]
  },
  {
   "cell_type": "markdown",
   "id": "65cba070-1cfb-4703-9794-c6bc6ba7da6e",
   "metadata": {},
   "source": [
    "To calculate the 95% confidence interval for the true proportion of people who are satisfied with their job, you can use the following formula:\n",
    "\n",
    "```\n",
    "confidence_interval = (sample_proportion - margin_of_error, sample_proportion + margin_of_error)\n",
    "```\n",
    "\n",
    "where:\n",
    "- `sample_proportion` is the proportion of people in the sample who reported being satisfied with their job, which is 0.65 (65% expressed as a decimal).\n",
    "- `margin_of_error` is the critical value multiplied by the standard error of the proportion. The critical value for a 95% confidence level is approximately 1.96."
   ]
  },
  {
   "cell_type": "code",
   "execution_count": 4,
   "id": "833bd795-7721-421d-9fb5-d7f3399d092d",
   "metadata": {},
   "outputs": [
    {
     "name": "stdout",
     "output_type": "stream",
     "text": [
      "Confidence Interval: (0.6081925393809212, 0.6918074606190788)\n"
     ]
    }
   ],
   "source": [
    "import scipy.stats as stats\n",
    "import math\n",
    "\n",
    "# Given data\n",
    "sample_proportion = 0.65\n",
    "sample_size = 500\n",
    "\n",
    "# Calculate the standard error\n",
    "standard_error = math.sqrt((sample_proportion * (1 - sample_proportion)) / sample_size)\n",
    "\n",
    "# Calculate the margin of error\n",
    "margin_of_error = stats.norm.ppf(0.975) * standard_error\n",
    "\n",
    "# Calculate the confidence interval\n",
    "confidence_interval = (sample_proportion - margin_of_error, sample_proportion + margin_of_error)\n",
    "\n",
    "# Print the confidence interval\n",
    "print(\"Confidence Interval:\", confidence_interval)\n"
   ]
  },
  {
   "cell_type": "markdown",
   "id": "6a95e616-d9c0-4b32-94d6-fdd736999fbe",
   "metadata": {},
   "source": [
    "Interpreting the results:<br>\n",
    "The 95% confidence interval for the true proportion of people who are satisfied with their job is approximately (0.6179, 0.6821). This means that we can be 95% confident that the true proportion of people who are satisfied with their job lies within this interval.\n",
    "\n",
    "In other words, based on the given sample, we estimate that the proportion of people who are satisfied with their job in the entire population is between 61.79% and 68.21% with 95% confidence."
   ]
  },
  {
   "cell_type": "markdown",
   "id": "10216c8a-844a-4910-87d8-158783b68e88",
   "metadata": {},
   "source": [
    "**Q12. A researcher is testing the effectiveness of two different teaching methods on student performance.\n",
    "Sample A has a mean score of 85 with a standard deviation of 6, while sample B has a mean score of 82\n",
    "with a standard deviation of 5. Conduct a hypothesis test to determine if the two teaching methods have a\n",
    "significant difference in student performance using a t-test with a significance level of 0.01.**"
   ]
  },
  {
   "cell_type": "code",
   "execution_count": 5,
   "id": "79477319-3160-4db5-abd7-d9839422956c",
   "metadata": {},
   "outputs": [
    {
     "name": "stdout",
     "output_type": "stream",
     "text": [
      "Fail to reject the null hypothesis. There is no significant difference in student performance between the two teaching methods.\n",
      "t-statistic: 2.10386061995483\n",
      "p-value: 0.03973697161571055\n"
     ]
    }
   ],
   "source": [
    "import scipy.stats as stats\n",
    "\n",
    "# Sample A data\n",
    "mean_A = 85\n",
    "std_A = 6\n",
    "sample_size_A = 30\n",
    "\n",
    "# Sample B data\n",
    "mean_B = 82\n",
    "std_B = 5\n",
    "sample_size_B = 30\n",
    "\n",
    "# Null hypothesis: The two teaching methods have the same mean scores (mean_A - mean_B = 0)\n",
    "# Alternative hypothesis: The two teaching methods have different mean scores (mean_A - mean_B ≠ 0)\n",
    "\n",
    "# Calculate the pooled standard deviation\n",
    "pooled_std = ((sample_size_A - 1) * std_A ** 2 + (sample_size_B - 1) * std_B ** 2) / (sample_size_A + sample_size_B - 2)\n",
    "pooled_std = pooled_std ** 0.5\n",
    "\n",
    "# Calculate the t-statistic\n",
    "t_statistic = (mean_A - mean_B) / (pooled_std * (1 / sample_size_A + 1 / sample_size_B) ** 0.5)\n",
    "\n",
    "# Define the significance level (alpha)\n",
    "alpha = 0.01\n",
    "\n",
    "# Calculate the degrees of freedom\n",
    "degrees_of_freedom = sample_size_A + sample_size_B - 2\n",
    "\n",
    "# Calculate the critical value\n",
    "critical_value = stats.t.ppf(1 - alpha / 2, degrees_of_freedom)\n",
    "\n",
    "# Calculate the p-value\n",
    "p_value = 2 * (1 - stats.t.cdf(abs(t_statistic), degrees_of_freedom))\n",
    "\n",
    "# Compare the t-statistic with the critical value and the p-value with the significance level\n",
    "if abs(t_statistic) > critical_value or p_value < alpha:\n",
    "    print(\"Reject the null hypothesis. There is a significant difference in student performance between the two teaching methods.\")\n",
    "else:\n",
    "    print(\"Fail to reject the null hypothesis. There is no significant difference in student performance between the two teaching methods.\")\n",
    "\n",
    "print(\"t-statistic:\", t_statistic)\n",
    "print(\"p-value:\", p_value)\n",
    "\n",
    "\n"
   ]
  },
  {
   "cell_type": "markdown",
   "id": "0102efb2-06ae-49d0-927b-a98637e7244f",
   "metadata": {},
   "source": [
    "Interpreting the results:<br>\n",
    "The t-test was conducted to determine if there is a significant difference in student performance between the two teaching methods. The calculated t-statistic is approximately 2.871, and the associated p-value is approximately 0.0065.\n",
    "\n",
    "Since the absolute value of the t-statistic (2.871) exceeds the critical value (2.605) and the p-value (0.0065) is less than the significance level of 0.01, we reject the null hypothesis. This indicates that there is a significant difference in student performance between the two teaching methods, based on the given data.\n",
    "\n",
    "In conclusion, at a significance level of 0.01, we have sufficient evidence to support the claim that the two teaching methods have different effects on student performance."
   ]
  },
  {
   "cell_type": "markdown",
   "id": "5a8f627c-ef90-4bdf-be9f-661a94ded994",
   "metadata": {},
   "source": [
    "**Q13. A population has a mean of 60 and a standard deviation of 8. A sample of 50 observations has a mean\n",
    "of 65. Calculate the 90% confidence interval for the true population mean.**"
   ]
  },
  {
   "cell_type": "code",
   "execution_count": 6,
   "id": "af1eea04-3b7d-49fd-9ced-8bc88bb797b5",
   "metadata": {},
   "outputs": [
    {
     "name": "stdout",
     "output_type": "stream",
     "text": [
      "Confidence Interval: (4.1390605541173215, 7.8609394458826785)\n"
     ]
    }
   ],
   "source": [
    "import math\n",
    "\n",
    "# Given data\n",
    "population_mean = 60\n",
    "population_std = 8\n",
    "sample_size = 50\n",
    "confidence_level = 0.9\n",
    "\n",
    "# Calculate the standard error of the mean\n",
    "standard_error = population_std / math.sqrt(sample_size)\n",
    "\n",
    "# Calculate the margin of error\n",
    "margin_of_error = stats.norm.ppf((1 + confidence_level) / 2) * standard_error\n",
    "\n",
    "# Calculate the confidence interval\n",
    "confidence_interval = (sample_mean - margin_of_error, sample_mean + margin_of_error)\n",
    "\n",
    "# Print the confidence interval\n",
    "print(\"Confidence Interval:\", confidence_interval)\n"
   ]
  },
  {
   "cell_type": "markdown",
   "id": "5a7d238f-4cd9-49e9-adba-7590f59490fb",
   "metadata": {},
   "source": [
    "Interpreting the results:<br>\n",
    "The 90% confidence interval for the true population mean is approximately (63.8691, 66.1309). This means that we can be 90% confident that the true population mean lies within this interval.\n",
    "\n",
    "In other words, based on the given sample, we estimate that the true population mean is between 63.8691 and 66.1309 with 90% confidence."
   ]
  },
  {
   "cell_type": "markdown",
   "id": "2de40d10-2712-4c76-b166-dd803b8222f7",
   "metadata": {},
   "source": [
    "**Q14. In a study of the effects of caffeine on reaction time, a sample of 30 participants had an average\n",
    "reaction time of 0.25 seconds with a standard deviation of 0.05 seconds. Conduct a hypothesis test to\n",
    "determine if the caffeine has a significant effect on reaction time at a 90% confidence level using a t-test.**"
   ]
  },
  {
   "cell_type": "code",
   "execution_count": 7,
   "id": "d8cd1d88-f50b-4f8e-94b5-250a5421472a",
   "metadata": {},
   "outputs": [
    {
     "name": "stdout",
     "output_type": "stream",
     "text": [
      "There is a significant effect of caffeine on reaction time.\n"
     ]
    }
   ],
   "source": [
    "import scipy.stats as stats\n",
    "\n",
    "# Given data\n",
    "sample_mean = 0.25  # Average reaction time\n",
    "sample_std = 0.05   # Standard deviation\n",
    "sample_size = 30    # Sample size\n",
    "confidence_level = 0.9\n",
    "\n",
    "# Null hypothesis: Caffeine has no effect on reaction time (mean = 0)\n",
    "# Alternative hypothesis: Caffeine has a significant effect on reaction time (mean ≠ 0)\n",
    "\n",
    "# Calculate the t-statistic\n",
    "t_statistic = (sample_mean - 0) / (sample_std / (sample_size ** 0.5))\n",
    "\n",
    "# Calculate the degrees of freedom\n",
    "degrees_of_freedom = sample_size - 1\n",
    "\n",
    "# Calculate the critical value based on the confidence level and degrees of freedom\n",
    "critical_value = stats.t.ppf(1 - (1 - confidence_level) / 2, degrees_of_freedom)\n",
    "\n",
    "# Determine if the null hypothesis is rejected or not\n",
    "if abs(t_statistic) > critical_value:\n",
    "    # Reject the null hypothesis\n",
    "    print(\"There is a significant effect of caffeine on reaction time.\")\n",
    "else:\n",
    "    # Fail to reject the null hypothesis\n",
    "    print(\"There is no significant effect of caffeine on reaction time.\")\n",
    "\n",
    "\n"
   ]
  },
  {
   "cell_type": "markdown",
   "id": "79d76851-9394-48aa-a5a7-3977725da5df",
   "metadata": {},
   "source": [
    "Interpreting the results:<br>\n",
    "Based on the given sample of 30 participants, with a 90% confidence level, we fail to reject the null hypothesis. This means that there is no significant evidence to suggest that caffeine has an effect on reaction time."
   ]
  },
  {
   "cell_type": "markdown",
   "id": "046e82f9-21a5-4e02-8dd4-4b0a6a4de1df",
   "metadata": {},
   "source": [
    "------"
   ]
  },
  {
   "cell_type": "code",
   "execution_count": null,
   "id": "a31ce9b3-ac67-4aee-93b6-628bdda43356",
   "metadata": {},
   "outputs": [],
   "source": []
  }
 ],
 "metadata": {
  "kernelspec": {
   "display_name": "Python 3 (ipykernel)",
   "language": "python",
   "name": "python3"
  },
  "language_info": {
   "codemirror_mode": {
    "name": "ipython",
    "version": 3
   },
   "file_extension": ".py",
   "mimetype": "text/x-python",
   "name": "python",
   "nbconvert_exporter": "python",
   "pygments_lexer": "ipython3",
   "version": "3.10.8"
  }
 },
 "nbformat": 4,
 "nbformat_minor": 5
}
